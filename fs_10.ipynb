{
  "nbformat": 4,
  "nbformat_minor": 0,
  "metadata": {
    "colab": {
      "provenance": [],
      "mount_file_id": "1vc2YMgMfzfO1q70VqPKZqLM6nW-X6nfs",
      "authorship_tag": "ABX9TyPw4lB8u4hW90tO1znJqMgy",
      "include_colab_link": true
    },
    "kernelspec": {
      "name": "python3",
      "display_name": "Python 3"
    },
    "language_info": {
      "name": "python"
    }
  },
  "cells": [
    {
      "cell_type": "markdown",
      "metadata": {
        "id": "view-in-github",
        "colab_type": "text"
      },
      "source": [
        "<a href=\"https://colab.research.google.com/github/gnaneswar-18/fs-10/blob/main/fs_10.ipynb\" target=\"_parent\"><img src=\"https://colab.research.google.com/assets/colab-badge.svg\" alt=\"Open In Colab\"/></a>"
      ]
    },
    {
      "cell_type": "code",
      "source": [
        "import pandas as pd;\n",
        "from sklearn.preprocessing import LabelEncoder\n",
        "data=pd.read_csv('/content/drive/MyDrive/Copy of melbourne_housing_raw.csv')\n",
        "from sklearn import preprocessing\n",
        "label_encoder = preprocessing.LabelEncoder()\n",
        "for column in data.keys():\n",
        "  print(data[column].dtype)\n",
        "  if data[column].dtype == 'object':\n",
        "    data[column] = label_encoder.fit_transform(data[column])\n"
      ],
      "metadata": {
        "id": "BMYcumHL_Orh"
      },
      "execution_count": null,
      "outputs": []
    },
    {
      "cell_type": "code",
      "source": [
        "x=data.drop('Propertycount',axis=1)\n",
        "y=data['Propertycount']\n",
        "print(x.shape)\n",
        "print(y.shape)\n",
        "if y.isnull().any():\n",
        "    y = y.dropna()\n",
        "    x = x.loc[y.index]\n",
        "print(x.shape)\n",
        "print(y.shape)"
      ],
      "metadata": {
        "id": "3HvEsRYjaXxs"
      },
      "execution_count": null,
      "outputs": []
    },
    {
      "cell_type": "code",
      "source": [
        "import numpy as np\n",
        "from sklearn.model_selection import train_test_split\n",
        "from sklearn.ensemble import RandomForestRegressor\n",
        "from sklearn.metrics import mean_absolute_error\n",
        "import matplotlib.pyplot as plt\n",
        "\n",
        "X_train, X_test, y_train, y_test = train_test_split(x, y, test_size=0.3, random_state=42)\n",
        "model = RandomForestRegressor(n_estimators=10, random_state=42)\n",
        "def evaluate_model(X_train, X_test, y_train, y_test):\n",
        "    model.fit(X_train, y_train)\n",
        "    y_pred = model.predict(X_test)\n",
        "    return mean_absolute_error(y_test, y_pred)\n",
        "\n",
        "mae_list = []\n",
        "num_features_list = []\n",
        "\n",
        "current_features = list(X_train.columns)\n",
        "initial_mae = evaluate_model(X_train[current_features], X_test[current_features], y_train, y_test)\n",
        "mae_list.append(initial_mae)\n",
        "num_features_list.append(len(current_features))\n",
        "\n",
        "print(f\"initial mae with all features: {initial_mae}\")"
      ],
      "metadata": {
        "id": "5X_FZYthCN8X"
      },
      "execution_count": null,
      "outputs": []
    },
    {
      "cell_type": "code",
      "source": [
        "for _ in range(len(current_features) - 1):\n",
        "    importances = model.feature_importances_\n",
        "    least_important_idx = np.argmin(importances)\n",
        "    least_important_feature = current_features[least_important_idx]\n",
        "    current_features.pop(least_important_idx)\n",
        "    new_mae = evaluate_model(X_train[current_features], X_test[current_features], y_train, y_test)\n",
        "\n",
        "\n",
        "    mae_list.append(new_mae)\n",
        "    num_features_list.append(len(current_features))\n",
        "    print(f\"removed {least_important_feature}, mae: {new_mae}, features left: {len(current_features)}\")"
      ],
      "metadata": {
        "id": "LZpe5BaXDaSc"
      },
      "execution_count": null,
      "outputs": []
    },
    {
      "cell_type": "code",
      "source": [
        "plt.plot(num_features_list, mae_list, marker='o')\n",
        "plt.title('Impact of Feature Elimination on Model Accuracy')\n",
        "plt.xlabel('Number of Features')\n",
        "plt.ylabel('Mean Absolute Error (MAE)')\n",
        "plt.gca().invert_xaxis()\n",
        "plt.show()"
      ],
      "metadata": {
        "id": "cH4vjsffDbvJ"
      },
      "execution_count": null,
      "outputs": []
    }
  ]
}